{
 "cells": [
  {
   "cell_type": "code",
   "execution_count": null,
   "metadata": {
    "collapsed": true,
    "pycharm": {
     "name": "#%%\n"
    }
   },
   "outputs": [],
   "source": [
    "def multiply(v1, v2):\n",
    "    if (v1 > 0 and v2 > 0) or (v1 < 0 and v2 < 0):\n",
    "        return 'Le produit sera positif'\n",
    "    else:\n",
    "        return 'Le produit sera négatif'"
   ]
  },
  {
   "cell_type": "code",
   "execution_count": 4,
   "outputs": [
    {
     "name": "stdout",
     "output_type": "stream",
     "text": [
      "Le produit sera négatif\n"
     ]
    }
   ],
   "source": [
    "print('Entrer la première valeur : ')\n",
    "x = int(input())\n",
    "print('Entrer la seconde valeur : ')\n",
    "y = int(input())\n",
    "print(multiply(x, y))"
   ],
   "metadata": {
    "collapsed": false,
    "pycharm": {
     "name": "#%%\n"
    }
   }
  }
 ],
 "metadata": {
  "kernelspec": {
   "display_name": "Python 3",
   "language": "python",
   "name": "python3"
  },
  "language_info": {
   "codemirror_mode": {
    "name": "ipython",
    "version": 2
   },
   "file_extension": ".py",
   "mimetype": "text/x-python",
   "name": "python",
   "nbconvert_exporter": "python",
   "pygments_lexer": "ipython2",
   "version": "2.7.6"
  }
 },
 "nbformat": 4,
 "nbformat_minor": 0
}