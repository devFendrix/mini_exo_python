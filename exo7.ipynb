{
 "cells": [
  {
   "cell_type": "code",
   "execution_count": null,
   "metadata": {
    "collapsed": true,
    "pycharm": {
     "name": "#%%\n"
    }
   },
   "outputs": [],
   "source": [
    "\"\"\"\n",
    "\n",
    "\"\"\"\n",
    "\n",
    "p1 = [1, 2, 3, 4, 5]\n",
    "p2 = [1, 2, 3, 4, 5]\n",
    "\n",
    "def multiplyVector(p1, p2):\n",
    "    p3 = []\n",
    "    for i in range(0, len(p1)):\n",
    "        p3.append(p1[i] * p2[i])\n",
    "    return p3\n",
    "\n",
    "print(multiplyVector(p1, p2))\n"
   ]
  }
 ],
 "metadata": {
  "kernelspec": {
   "display_name": "Python 3",
   "language": "python",
   "name": "python3"
  },
  "language_info": {
   "codemirror_mode": {
    "name": "ipython",
    "version": 2
   },
   "file_extension": ".py",
   "mimetype": "text/x-python",
   "name": "python",
   "nbconvert_exporter": "python",
   "pygments_lexer": "ipython2",
   "version": "2.7.6"
  }
 },
 "nbformat": 4,
 "nbformat_minor": 0
}