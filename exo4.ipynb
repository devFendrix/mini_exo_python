{
 "cells": [
  {
   "cell_type": "code",
   "execution_count": null,
   "metadata": {
    "collapsed": true,
    "pycharm": {
     "name": "#%%\n"
    }
   },
   "outputs": [],
   "source": [
    "\"\"\"\n",
    "\n",
    "\"\"\"\n",
    "\n",
    "p1 = [1, 2, 3, 4, 5]\n",
    "p2 = [1, 2, 3, 4, 5]\n",
    "\n",
    "def fac_product(tab1, tab2):\n",
    "    result = 0\n",
    "    for i in range(0 , len(p1)):\n",
    "        for o in range(0, len(p2)):\n",
    "            result = tab1[i] * tab2[o] + result\n",
    "    return result\n",
    "\n",
    "print(fac_product(p1, p2))"
   ]
  }
 ],
 "metadata": {
  "kernelspec": {
   "display_name": "Python 3",
   "language": "python",
   "name": "python3"
  },
  "language_info": {
   "codemirror_mode": {
    "name": "ipython",
    "version": 2
   },
   "file_extension": ".py",
   "mimetype": "text/x-python",
   "name": "python",
   "nbconvert_exporter": "python",
   "pygments_lexer": "ipython2",
   "version": "2.7.6"
  }
 },
 "nbformat": 4,
 "nbformat_minor": 0
}