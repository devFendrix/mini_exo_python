{
 "cells": [
  {
   "cell_type": "code",
   "execution_count": 8,
   "metadata": {
    "collapsed": true,
    "pycharm": {
     "name": "#%%\n"
    }
   },
   "outputs": [
    {
     "name": "stdout",
     "output_type": "stream",
     "text": [
      "[[6, 12, 18], [6, 12, 18], [6, 12, 18]]\n"
     ]
    }
   ],
   "source": [
    "\"\"\"\n",
    "\n",
    "\"\"\"\n",
    "\n",
    "mat1 = [[1, 2, 3],[1, 2, 3],[1, 2, 3]]\n",
    "mat2 = [[1, 2, 3],[1, 2, 3],[1, 2, 3]]\n",
    "\n",
    "def multiply_matrix(tab1: list, tab2 : list) ->list:\n",
    "    mat_result = [[0]*len(tab2[0]) for i in range(len(tab1))]\n",
    "    for i in range(len(tab1)):\n",
    "        for j in range(len(tab2[0])):\n",
    "            for k in range(len(tab2)):\n",
    "                mat_result[i][j] += tab1[i][k] * tab2[k][j]\n",
    "    return mat_result\n",
    "\n",
    "print(multiply_matrix(mat1, mat2))\n"
   ]
  },
  {
   "cell_type": "code",
   "execution_count": null,
   "outputs": [],
   "source": [],
   "metadata": {
    "collapsed": false,
    "pycharm": {
     "name": "#%%\n"
    }
   }
  }
 ],
 "metadata": {
  "kernelspec": {
   "display_name": "Python 3",
   "language": "python",
   "name": "python3"
  },
  "language_info": {
   "codemirror_mode": {
    "name": "ipython",
    "version": 2
   },
   "file_extension": ".py",
   "mimetype": "text/x-python",
   "name": "python",
   "nbconvert_exporter": "python",
   "pygments_lexer": "ipython2",
   "version": "2.7.6"
  }
 },
 "nbformat": 4,
 "nbformat_minor": 0
}