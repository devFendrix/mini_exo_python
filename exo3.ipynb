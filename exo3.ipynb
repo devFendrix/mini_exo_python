{
 "cells": [
  {
   "cell_type": "code",
   "execution_count": null,
   "metadata": {
    "collapsed": true,
    "pycharm": {
     "name": "#%%\n"
    }
   },
   "outputs": [],
   "source": [
    "tab = [1, 2, 3, 4, 5]\n",
    "\n",
    "def sum_tab(tab):\n",
    "    result = 0\n",
    "    for i in range(0, len(tab)):\n",
    "        result += tab[i]\n",
    "    return result\n",
    "\n",
    "print(sum_tab(tab))"
   ]
  }
 ],
 "metadata": {
  "kernelspec": {
   "display_name": "Python 3",
   "language": "python",
   "name": "python3"
  },
  "language_info": {
   "codemirror_mode": {
    "name": "ipython",
    "version": 2
   },
   "file_extension": ".py",
   "mimetype": "text/x-python",
   "name": "python",
   "nbconvert_exporter": "python",
   "pygments_lexer": "ipython2",
   "version": "2.7.6"
  }
 },
 "nbformat": 4,
 "nbformat_minor": 0
}