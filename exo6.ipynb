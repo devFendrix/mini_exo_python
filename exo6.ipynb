{
 "cells": [
  {
   "cell_type": "code",
   "execution_count": null,
   "metadata": {
    "collapsed": true,
    "pycharm": {
     "name": "#%%\n"
    }
   },
   "outputs": [],
   "source": [
    "\"\"\"\n",
    "\n",
    "\"\"\"\n",
    "\n",
    "print('Entrer la première note : ')\n",
    "x1 = float(input())\n",
    "print('Entrer la deuxième note : ')\n",
    "x2 = float(input())\n",
    "print('Entrer la troisième note : ')\n",
    "x3 = float(input())\n",
    "print('Entrer la quatrième note : ')\n",
    "x4 = float(input())\n",
    "print('Entrer la cinquième note : ')\n",
    "x5 = float(input())\n",
    "\n",
    "tab = [x1, x2, x3, x4, x5]\n",
    "\n",
    "def getCountBetterThanMoy(tab):\n",
    "    sum = 0\n",
    "    x = 0\n",
    "    for i in range(0, len(tab)):\n",
    "        sum += tab[i]\n",
    "    moy = sum / len(tab)\n",
    "    for o in range(0, len(tab)):\n",
    "        if tab[o] > moy:\n",
    "            x += 1\n",
    "    return x\n",
    "\n",
    "print(getCountBetterThanMoy(tab))"
   ]
  }
 ],
 "metadata": {
  "kernelspec": {
   "display_name": "Python 3",
   "language": "python",
   "name": "python3"
  },
  "language_info": {
   "codemirror_mode": {
    "name": "ipython",
    "version": 2
   },
   "file_extension": ".py",
   "mimetype": "text/x-python",
   "name": "python",
   "nbconvert_exporter": "python",
   "pygments_lexer": "ipython2",
   "version": "2.7.6"
  }
 },
 "nbformat": 4,
 "nbformat_minor": 0
}