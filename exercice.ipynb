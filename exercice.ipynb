{
 "cells": [
  {
   "cell_type": "code",
   "execution_count": null,
   "metadata": {
    "collapsed": true,
    "pycharm": {
     "name": "#%%\n",
     "is_executing": true
    }
   },
   "outputs": [],
   "source": [
    "def multiply(v1, v2):\n",
    "    if (v1 > 0 and v2 > 0) or (v1 < 0 and v2 < 0):\n",
    "        return 'Le produit sera positif'\n",
    "    else:\n",
    "        return 'Le produit sera négatif'\n",
    "\n",
    "print('Entrer la première valeur : ')\n",
    "x = int(input())\n",
    "print('Entrer la seconde valeur : ')\n",
    "y = int(input())\n",
    "print(multiply(x, y))"
   ]
  },
  {
   "cell_type": "code",
   "execution_count": null,
   "outputs": [],
   "source": [
    "def suite(x):\n",
    "    result = 0\n",
    "    for i in range (1, x+1):\n",
    "        result = i + result\n",
    "    return result\n",
    "\n",
    "print('Entrer la valeur : ')\n",
    "x = int(input())\n",
    "print(suite(x))"
   ],
   "metadata": {
    "collapsed": false,
    "pycharm": {
     "name": "#%%\n"
    }
   }
  },
  {
   "cell_type": "code",
   "execution_count": null,
   "outputs": [],
   "source": [
    "tab = [1, 2, 3, 4, 5]\n",
    "\n",
    "def sum_tab(tab):\n",
    "    result = 0\n",
    "    for i in range(0, len(tab)):\n",
    "        result += tab[i]\n",
    "    return result\n",
    "\n",
    "print(sum_tab(tab))"
   ],
   "metadata": {
    "collapsed": false,
    "pycharm": {
     "name": "#%%\n"
    }
   }
  },
  {
   "cell_type": "code",
   "execution_count": null,
   "outputs": [],
   "source": [
    "p1 = [1, 2, 3, 4, 5]\n",
    "p2 = [1, 2, 3, 4, 5]\n",
    "\n",
    "def fac_product(tab1, tab2):\n",
    "    result = 0\n",
    "    for i in range(0 , len(tab1)):\n",
    "        for o in range(0, len(tab2)):\n",
    "            result = tab1[i] * tab2[o] + result\n",
    "    return result\n",
    "\n",
    "print(fac_product(p1, p2))"
   ],
   "metadata": {
    "collapsed": false,
    "pycharm": {
     "name": "#%%\n"
    }
   }
  },
  {
   "cell_type": "code",
   "execution_count": null,
   "outputs": [],
   "source": [
    "tab = [1, 2, 3, 4, 5]\n",
    "\n",
    "def max_tab(tab):\n",
    "    result = 0\n",
    "    for i in range(0, len(tab)):\n",
    "        if (tab[i] > result):\n",
    "            result = tab[i]\n",
    "    return result\n",
    "\n",
    "print(max_tab(tab))"
   ],
   "metadata": {
    "collapsed": false,
    "pycharm": {
     "name": "#%%\n"
    }
   }
  },
  {
   "cell_type": "code",
   "execution_count": null,
   "outputs": [],
   "source": [
    "print('Entrer la première note : ')\n",
    "x1 = float(input())\n",
    "print('Entrer la deuxième note : ')\n",
    "x2 = float(input())\n",
    "print('Entrer la troisième note : ')\n",
    "x3 = float(input())\n",
    "print('Entrer la quatrième note : ')\n",
    "x4 = float(input())\n",
    "print('Entrer la cinquième note : ')\n",
    "x5 = float(input())\n",
    "\n",
    "tab = [x1, x2, x3, x4, x5]\n",
    "\n",
    "def getCountBetterThanMoy(tab):\n",
    "    sum = 0\n",
    "    x = 0\n",
    "    for i in range(0, len(tab)):\n",
    "        sum += tab[i]\n",
    "    moy = sum / len(tab)\n",
    "    for o in range(0, len(tab)):\n",
    "        if tab[o] > moy:\n",
    "            x += 1\n",
    "    return x\n",
    "\n",
    "print(getCountBetterThanMoy(tab))"
   ],
   "metadata": {
    "collapsed": false,
    "pycharm": {
     "name": "#%%\n"
    }
   }
  },
  {
   "cell_type": "code",
   "execution_count": null,
   "outputs": [],
   "source": [
    "p1 = [1, 2, 3, 4, 5]\n",
    "p2 = [1, 2, 3, 4, 5]\n",
    "\n",
    "def multiplyVector(p1, p2):\n",
    "    p3 = []\n",
    "    for i in range(0, len(p1)):\n",
    "        p3.append(p1[i] * p2[i])\n",
    "    return p3\n",
    "\n",
    "print(multiplyVector(p1, p2))"
   ],
   "metadata": {
    "collapsed": false,
    "pycharm": {
     "name": "#%%\n"
    }
   }
  },
  {
   "cell_type": "code",
   "execution_count": null,
   "outputs": [],
   "source": [
    "def facto(x):\n",
    "    result = 1\n",
    "    for i in range(1, x + 1):\n",
    "        result = i * result\n",
    "    return result\n",
    "\n",
    "\n",
    "print(facto(4))"
   ],
   "metadata": {
    "collapsed": false,
    "pycharm": {
     "name": "#%%\n"
    }
   }
  },
  {
   "cell_type": "code",
   "execution_count": null,
   "outputs": [],
   "source": [
    "mat1 = [[1, 2, 3],[1, 2, 3],[1, 2, 3]]\n",
    "mat2 = [[1, 2, 3],[1, 2, 3],[1, 2, 3]]\n",
    "\n",
    "def multiply_matrix(tab1: list, tab2 : list) ->list:\n",
    "    mat_result = [[0]*len(tab2[0]) for i in range(len(tab1))]\n",
    "    for i in range(len(tab1)):\n",
    "        for j in range(len(tab2[0])):\n",
    "            for k in range(len(tab2)):\n",
    "                mat_result[i][j] += tab1[i][k] * tab2[k][j]\n",
    "    return mat_result\n",
    "\n",
    "print(multiply_matrix(mat1, mat2))"
   ],
   "metadata": {
    "collapsed": false,
    "pycharm": {
     "name": "#%%\n"
    }
   }
  },
  {
   "cell_type": "code",
   "execution_count": null,
   "outputs": [],
   "source": [
    "def fibo(x):\n",
    "    if x <= 1:\n",
    "        return x\n",
    "    else:\n",
    "        return (fibo(x - 1) + fibo(x - 2))\n",
    "\n",
    "print(fibo(5))"
   ],
   "metadata": {
    "collapsed": false,
    "pycharm": {
     "name": "#%%\n"
    }
   }
  },
  {
   "cell_type": "code",
   "execution_count": null,
   "outputs": [],
   "source": [
    "def timestop(x):\n",
    "    result = 1\n",
    "    somme = 0\n",
    "\n",
    "    while(somme <= x):\n",
    "        somme += 1 / result\n",
    "        result += 1\n",
    "\n",
    "    return result\n",
    "\n",
    "print(stop(5))"
   ],
   "metadata": {
    "collapsed": false,
    "pycharm": {
     "name": "#%%\n"
    }
   }
  }
 ],
 "metadata": {
  "kernelspec": {
   "display_name": "Python 3",
   "language": "python",
   "name": "python3"
  },
  "language_info": {
   "codemirror_mode": {
    "name": "ipython",
    "version": 2
   },
   "file_extension": ".py",
   "mimetype": "text/x-python",
   "name": "python",
   "nbconvert_exporter": "python",
   "pygments_lexer": "ipython2",
   "version": "2.7.6"
  }
 },
 "nbformat": 4,
 "nbformat_minor": 0
}